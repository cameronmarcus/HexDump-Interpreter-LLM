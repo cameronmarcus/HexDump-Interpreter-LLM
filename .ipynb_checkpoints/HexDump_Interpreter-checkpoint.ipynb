{
 "cells": [
  {
   "cell_type": "code",
   "execution_count": 2,
   "id": "initial_id",
   "metadata": {
    "ExecuteTime": {
     "end_time": "2023-11-04T15:39:20.967265Z",
     "start_time": "2023-11-04T15:39:20.936074500Z"
    }
   },
   "outputs": [
    {
     "ename": "ModuleNotFoundError",
     "evalue": "No module named 'llama_index'",
     "output_type": "error",
     "traceback": [
      "\u001b[1;31m---------------------------------------------------------------------------\u001b[0m",
      "\u001b[1;31mModuleNotFoundError\u001b[0m                       Traceback (most recent call last)",
      "Cell \u001b[1;32mIn[2], line 1\u001b[0m\n\u001b[1;32m----> 1\u001b[0m \u001b[38;5;28;01mfrom\u001b[39;00m \u001b[38;5;21;01mllama_index\u001b[39;00m \u001b[38;5;28;01mimport\u001b[39;00m (GPTVectorStoreIndex, SimpleDirectoryReader, ServiceContext, StorageContext, load_index_from_storage)\n\u001b[0;32m      2\u001b[0m \u001b[38;5;28;01mfrom\u001b[39;00m \u001b[38;5;21;01mllama_index\u001b[39;00m\u001b[38;5;21;01m.\u001b[39;00m\u001b[38;5;21;01mnode_parser\u001b[39;00m \u001b[38;5;28;01mimport\u001b[39;00m SimpleNodeParser\n\u001b[0;32m      4\u001b[0m \u001b[38;5;66;03m# VERBOSITY FOR DEBUGGING ->\u001b[39;00m\n\u001b[0;32m      5\u001b[0m \u001b[38;5;66;03m#logging.basicConfig(stream=sys.stdout, level=logging.BASIC_FORMAT)\u001b[39;00m\n\u001b[0;32m      6\u001b[0m \u001b[38;5;66;03m#logging.getLogger().addHandler(logging.StreamHandler(stream=sys.stdout))\u001b[39;00m\n",
      "\u001b[1;31mModuleNotFoundError\u001b[0m: No module named 'llama_index'"
     ]
    }
   ],
   "source": [
    "from llama_index import (GPTVectorStoreIndex, SimpleDirectoryReader, ServiceContext, StorageContext, load_index_from_storage)\n",
    "from llama_index.node_parser import SimpleNodeParser\n",
    "\n",
    "# VERBOSITY FOR DEBUGGING ->\n",
    "#logging.basicConfig(stream=sys.stdout, level=logging.BASIC_FORMAT)\n",
    "#logging.getLogger().addHandler(logging.StreamHandler(stream=sys.stdout))\n",
    "\n",
    "%env OPENAI_API_KEY=[ENTER KEY HERE]"
   ]
  },
  {
   "cell_type": "code",
   "execution_count": 5,
   "id": "6b6edfb418dca458",
   "metadata": {
    "ExecuteTime": {
     "end_time": "2023-11-04T15:39:22.167867700Z",
     "start_time": "2023-11-04T15:39:20.958720200Z"
    }
   },
   "outputs": [],
   "source": [
    "documents = SimpleDirectoryReader(\"./[HEX DUMP PACKETS DATASET]\").load_data()\n",
    "\n",
    "node_parser = SimpleNodeParser.from_defaults(chunk_size=512, chunk_overlap=10)\n",
    "service_context = ServiceContext.from_defaults(node_parser=node_parser)\n",
    "\n",
    "index = GPTVectorStoreIndex.from_documents(documents, service_context=service_context)"
   ]
  },
  {
   "cell_type": "code",
   "execution_count": 6,
   "id": "2e5c875730e9aa10",
   "metadata": {
    "ExecuteTime": {
     "end_time": "2023-11-04T15:39:33.842347800Z",
     "start_time": "2023-11-04T15:39:22.167867700Z"
    }
   },
   "outputs": [
    {
     "name": "stdout",
     "output_type": "stream",
     "text": [
      "The TCP flags that are set in this packet are SYN and ACK.\n"
     ]
    }
   ],
   "source": [
    "query_engine = index.as_query_engine()\n",
    "response = query_engine.query(\"What TCP flags are set in this packet?\")\n",
    "print(response)"
   ]
  },
  {
   "cell_type": "code",
   "execution_count": 7,
   "id": "a8cfd0ca05646544",
   "metadata": {
    "ExecuteTime": {
     "end_time": "2023-11-04T15:39:33.858220900Z",
     "start_time": "2023-11-04T15:39:33.832840400Z"
    }
   },
   "outputs": [],
   "source": [
    "index.storage_context.persist()"
   ]
  },
  {
   "cell_type": "code",
   "execution_count": 8,
   "id": "61d418d8526f5e19",
   "metadata": {
    "ExecuteTime": {
     "end_time": "2023-11-04T15:39:33.905491Z",
     "start_time": "2023-11-04T15:39:33.858220900Z"
    }
   },
   "outputs": [],
   "source": [
    "storage_context = StorageContext.from_defaults(persist_dir=\"./storage\")\n",
    "index = load_index_from_storage(storage_context)"
   ]
  }
 ],
 "metadata": {
  "kernelspec": {
   "display_name": "Python 3 (ipykernel)",
   "language": "python",
   "name": "python3"
  },
  "language_info": {
   "codemirror_mode": {
    "name": "ipython",
    "version": 3
   },
   "file_extension": ".py",
   "mimetype": "text/x-python",
   "name": "python",
   "nbconvert_exporter": "python",
   "pygments_lexer": "ipython3",
   "version": "3.11.5"
  }
 },
 "nbformat": 4,
 "nbformat_minor": 5
}
